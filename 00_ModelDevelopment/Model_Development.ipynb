{
 "cells": [
  {
   "cell_type": "markdown",
   "id": "5fb969b4",
   "metadata": {},
   "source": [
    "# 0. Imports"
   ]
  },
  {
   "cell_type": "code",
   "execution_count": 23,
   "id": "db115d9b",
   "metadata": {},
   "outputs": [],
   "source": [
    "# pip freeze > requirements.txt"
   ]
  },
  {
   "cell_type": "code",
   "execution_count": 10,
   "id": "c7eb6889",
   "metadata": {},
   "outputs": [],
   "source": [
    "import torch\n",
    "import torch.nn as nn\n",
    "import torch.optim as optim\n",
    "import torch.nn.functional as F\n",
    "import torchvision\n",
    "import torchvision.transforms as transforms\n",
    "\n",
    "import os\n",
    "\n",
    "\n",
    "torch.manual_seed(1)         # PyTorch CPU\n",
    "torch.cuda.manual_seed(1)    # PyTorch GPU\n"
   ]
  },
  {
   "cell_type": "markdown",
   "id": "94c410b0",
   "metadata": {},
   "source": [
    "# 1. Training Data"
   ]
  },
  {
   "cell_type": "code",
   "execution_count": 11,
   "id": "3da4cf00",
   "metadata": {},
   "outputs": [
    {
     "data": {
      "text/plain": [
       "device(type='cuda')"
      ]
     },
     "execution_count": 11,
     "metadata": {},
     "output_type": "execute_result"
    }
   ],
   "source": [
    "# -------------------------\n",
    "# 1. Preparar dados\n",
    "# -------------------------\n",
    "transform = transforms.Compose([\n",
    "    transforms.ToTensor(),\n",
    "    transforms.Normalize((0.5, 0.5, 0.5), (0.5, 0.5, 0.5))\n",
    "])\n",
    "\n",
    "\n",
    "transform_train = transforms.Compose([\n",
    "    transforms.RandomCrop(32, padding=4),          # corta e desloca a imagem aleatoriamente\n",
    "    transforms.RandomHorizontalFlip(),             # espelha horizontalmente\n",
    "    transforms.RandomRotation(15),                 # rotaciona até ±15 graus\n",
    "    transforms.ColorJitter(\n",
    "        brightness=0.3, contrast=0.3, saturation=0.3, hue=0.1\n",
    "    ),                                             # muda cores\n",
    "    transforms.RandomAffine(\n",
    "        degrees=0, translate=(0.1, 0.1), scale=(0.9, 1.1), shear=10\n",
    "    ),                                             # distorce, translada, escala e inclina\n",
    "    transforms.ToTensor(),                          # converte para tensor\n",
    "    transforms.Normalize((0.5, 0.5, 0.5), (0.5, 0.5, 0.5))  # normaliza\n",
    "])\n",
    "\n",
    "\n",
    "if os.path.exists(\"./00_TrainingData\"):\n",
    "    trainset = torchvision.datasets.CIFAR10(root='./00_TrainingData', train=True,\n",
    "                                            download=False, transform=transform_train)\n",
    "    trainloader = torch.utils.data.DataLoader(trainset, batch_size=256,\n",
    "                                            shuffle=True)\n",
    "\n",
    "    testset = torchvision.datasets.CIFAR10(root='./00_TrainingData', train=False,\n",
    "                                        download=False, transform=transform)\n",
    "    testloader = torch.utils.data.DataLoader(testset, batch_size=256,\n",
    "                                            shuffle=False)\n",
    "else:\n",
    "    trainset = torchvision.datasets.CIFAR10(root='./00_TrainingData', train=True,\n",
    "                                            download=True, transform=transform_train)\n",
    "    trainloader = torch.utils.data.DataLoader(trainset, batch_size=256,\n",
    "                                            shuffle=True)\n",
    "\n",
    "    testset = torchvision.datasets.CIFAR10(root='./00_TrainingData', train=False,\n",
    "                                        download=True, transform=transform)\n",
    "    testloader = torch.utils.data.DataLoader(testset, batch_size=256,\n",
    "                                            shuffle=False)\n",
    "\n",
    "\n",
    "classes = ('plane', 'car', 'bird', 'cat',\n",
    "           'deer', 'dog', 'frog', 'horse', 'ship', 'truck')\n",
    "\n",
    "device = torch.device(\"cuda\" if torch.cuda.is_available() else \"cpu\")\n",
    "device"
   ]
  },
  {
   "cell_type": "markdown",
   "id": "3de8f994",
   "metadata": {},
   "source": [
    "# 2. CNN Architecture"
   ]
  },
  {
   "cell_type": "code",
   "execution_count": 12,
   "id": "c8fcfeb8",
   "metadata": {},
   "outputs": [],
   "source": [
    "import torch\n",
    "import torch.nn as nn\n",
    "import torch.nn.functional as F\n",
    "\n",
    "class ResidualBlock(nn.Module):\n",
    "    def __init__(self, in_channels, out_channels, downsample=False):\n",
    "        super(ResidualBlock, self).__init__()\n",
    "        stride = 2 if downsample else 1\n",
    "        \n",
    "        self.conv1 = nn.Conv2d(in_channels, out_channels, 3, stride=stride, padding=1, bias=False)\n",
    "        self.bn1 = nn.BatchNorm2d(out_channels)\n",
    "        self.conv2 = nn.Conv2d(out_channels, out_channels, 3, padding=1, bias=False)\n",
    "        self.bn2 = nn.BatchNorm2d(out_channels)\n",
    "        \n",
    "        # Ajuste da dimensão do atalho (skip connection) se necessário\n",
    "        self.shortcut = nn.Sequential()\n",
    "        if downsample or in_channels != out_channels:\n",
    "            self.shortcut = nn.Sequential(\n",
    "                nn.Conv2d(in_channels, out_channels, 1, stride=stride, bias=False),\n",
    "                nn.BatchNorm2d(out_channels)\n",
    "            )\n",
    "    \n",
    "    def forward(self, x):\n",
    "        out = F.relu(self.bn1(self.conv1(x)))\n",
    "        out = self.bn2(self.conv2(out))\n",
    "        out += self.shortcut(x)  # skip connection\n",
    "        return F.relu(out)\n",
    "\n",
    "\n",
    "class CNN(nn.Module):\n",
    "    def __init__(self, num_classes=10):\n",
    "        super(CNN, self).__init__()\n",
    "        \n",
    "        # Bloco inicial\n",
    "        self.conv1 = nn.Conv2d(3, 64, 3, padding=1, bias=False)\n",
    "        self.bn1 = nn.BatchNorm2d(64)\n",
    "        \n",
    "        # Blocos ResNet-like\n",
    "        self.layer1 = ResidualBlock(64, 64)\n",
    "        self.layer2 = ResidualBlock(64, 128, downsample=True)   # reduz dimensão\n",
    "        self.layer3 = ResidualBlock(128, 256, downsample=True)  # mais profundo\n",
    "        self.layer4 = ResidualBlock(256, 512, downsample=True)  # mais profundo\n",
    "        \n",
    "        # Adaptive pooling → sempre gera 1x1 independente da entrada\n",
    "        self.avgpool = nn.AdaptiveAvgPool2d((1, 1))\n",
    "        \n",
    "        # Classificador\n",
    "        self.fc = nn.Linear(512, num_classes)\n",
    "\n",
    "    def forward(self, x):\n",
    "        out = F.relu(self.bn1(self.conv1(x)))\n",
    "        out = self.layer1(out)\n",
    "        out = self.layer2(out)\n",
    "        out = self.layer3(out)\n",
    "        out = self.layer4(out)\n",
    "        out = self.avgpool(out)\n",
    "        out = torch.flatten(out, 1)  # (batch, 512)\n",
    "        out = self.fc(out)\n",
    "        return out\n",
    "    \n",
    "    \n",
    "net = CNN().to(device)"
   ]
  },
  {
   "cell_type": "markdown",
   "id": "68b753e9",
   "metadata": {},
   "source": [
    "# 3. CNN Training"
   ]
  },
  {
   "cell_type": "code",
   "execution_count": 15,
   "id": "efe47d07",
   "metadata": {},
   "outputs": [
    {
     "name": "stdout",
     "output_type": "stream",
     "text": [
      "Epoch 1/50 | Loss: 1.6419 | Train Acc: 39.84% | Test Acc: 52.56%\n",
      "Epoch 2/50 | Loss: 1.2381 | Train Acc: 55.55% | Test Acc: 63.07%\n",
      "Epoch 3/50 | Loss: 1.0678 | Train Acc: 62.05% | Test Acc: 63.92%\n",
      "Epoch 4/50 | Loss: 0.9501 | Train Acc: 66.46% | Test Acc: 70.22%\n",
      "Epoch 5/50 | Loss: 0.8530 | Train Acc: 70.06% | Test Acc: 70.70%\n",
      "Epoch 6/50 | Loss: 0.7891 | Train Acc: 72.28% | Test Acc: 74.85%\n",
      "Epoch 7/50 | Loss: 0.7339 | Train Acc: 74.35% | Test Acc: 76.83%\n",
      "Epoch 8/50 | Loss: 0.6866 | Train Acc: 76.10% | Test Acc: 79.37%\n",
      "Epoch 9/50 | Loss: 0.6458 | Train Acc: 77.38% | Test Acc: 79.87%\n",
      "Epoch 10/50 | Loss: 0.6204 | Train Acc: 78.27% | Test Acc: 80.89%\n",
      "Epoch 11/50 | Loss: 0.5946 | Train Acc: 79.23% | Test Acc: 81.86%\n",
      "Epoch 12/50 | Loss: 0.5665 | Train Acc: 80.34% | Test Acc: 81.98%\n",
      "Epoch 13/50 | Loss: 0.5474 | Train Acc: 80.95% | Test Acc: 81.78%\n",
      "Epoch 14/50 | Loss: 0.5264 | Train Acc: 81.84% | Test Acc: 83.45%\n",
      "Epoch 15/50 | Loss: 0.5018 | Train Acc: 82.59% | Test Acc: 85.56%\n",
      "Epoch 16/50 | Loss: 0.4861 | Train Acc: 83.04% | Test Acc: 84.51%\n",
      "Epoch 17/50 | Loss: 0.4714 | Train Acc: 83.68% | Test Acc: 85.24%\n",
      "Epoch 18/50 | Loss: 0.4552 | Train Acc: 84.13% | Test Acc: 84.50%\n",
      "Epoch 19/50 | Loss: 0.4457 | Train Acc: 84.49% | Test Acc: 85.10%\n",
      "Epoch 20/50 | Loss: 0.4320 | Train Acc: 84.90% | Test Acc: 83.81%\n",
      "Epoch 21/50 | Loss: 0.3721 | Train Acc: 86.97% | Test Acc: 88.50%\n",
      "Epoch 22/50 | Loss: 0.3549 | Train Acc: 87.61% | Test Acc: 88.00%\n",
      "Epoch 23/50 | Loss: 0.3479 | Train Acc: 87.87% | Test Acc: 88.62%\n",
      "Epoch 24/50 | Loss: 0.3359 | Train Acc: 88.15% | Test Acc: 88.42%\n",
      "Epoch 25/50 | Loss: 0.3325 | Train Acc: 88.38% | Test Acc: 88.53%\n",
      "Epoch 26/50 | Loss: 0.3274 | Train Acc: 88.51% | Test Acc: 88.83%\n",
      "Epoch 27/50 | Loss: 0.3131 | Train Acc: 88.88% | Test Acc: 88.88%\n",
      "Epoch 28/50 | Loss: 0.3087 | Train Acc: 89.12% | Test Acc: 89.07%\n",
      "Epoch 29/50 | Loss: 0.3047 | Train Acc: 89.14% | Test Acc: 88.61%\n",
      "Epoch 30/50 | Loss: 0.2995 | Train Acc: 89.45% | Test Acc: 89.80%\n",
      "Epoch 31/50 | Loss: 0.2931 | Train Acc: 89.74% | Test Acc: 88.72%\n",
      "Epoch 32/50 | Loss: 0.2873 | Train Acc: 89.81% | Test Acc: 89.26%\n",
      "Epoch 33/50 | Loss: 0.2847 | Train Acc: 90.05% | Test Acc: 89.00%\n",
      "Epoch 34/50 | Loss: 0.2805 | Train Acc: 90.09% | Test Acc: 89.98%\n",
      "Epoch 35/50 | Loss: 0.2695 | Train Acc: 90.43% | Test Acc: 90.01%\n",
      "Epoch 36/50 | Loss: 0.2659 | Train Acc: 90.58% | Test Acc: 89.99%\n",
      "Epoch 37/50 | Loss: 0.2622 | Train Acc: 90.70% | Test Acc: 89.76%\n",
      "Epoch 38/50 | Loss: 0.2598 | Train Acc: 90.88% | Test Acc: 90.02%\n",
      "Epoch 39/50 | Loss: 0.2537 | Train Acc: 91.07% | Test Acc: 90.06%\n",
      "Epoch 40/50 | Loss: 0.2508 | Train Acc: 91.14% | Test Acc: 90.12%\n",
      "Epoch 41/50 | Loss: 0.2197 | Train Acc: 92.31% | Test Acc: 90.99%\n",
      "Epoch 42/50 | Loss: 0.2064 | Train Acc: 92.66% | Test Acc: 90.93%\n",
      "Epoch 43/50 | Loss: 0.2043 | Train Acc: 92.75% | Test Acc: 91.02%\n",
      "Epoch 44/50 | Loss: 0.1975 | Train Acc: 92.95% | Test Acc: 91.03%\n",
      "Epoch 45/50 | Loss: 0.1970 | Train Acc: 92.87% | Test Acc: 91.14%\n",
      "Epoch 46/50 | Loss: 0.1949 | Train Acc: 92.96% | Test Acc: 90.80%\n",
      "Epoch 47/50 | Loss: 0.1932 | Train Acc: 92.96% | Test Acc: 91.26%\n",
      "Epoch 48/50 | Loss: 0.1885 | Train Acc: 93.22% | Test Acc: 91.21%\n",
      "Epoch 49/50 | Loss: 0.1885 | Train Acc: 93.35% | Test Acc: 91.03%\n",
      "Epoch 50/50 | Loss: 0.1821 | Train Acc: 93.51% | Test Acc: 90.96%\n"
     ]
    }
   ],
   "source": [
    "criterion = nn.CrossEntropyLoss()\n",
    "optimizer = optim.Adam(net.parameters(), lr=0.001)\n",
    "scheduler = optim.lr_scheduler.StepLR(optimizer, step_size=20, gamma=0.5)\n",
    "\n",
    "# -------------------------\n",
    "# 4. Treinamento\n",
    "# -------------------------\n",
    "num_epochs = 50\n",
    "\n",
    "for epoch in range(num_epochs):\n",
    "    net.train()\n",
    "    running_loss = 0.0\n",
    "    correct = 0\n",
    "    total = 0\n",
    "    \n",
    "    for inputs, labels in trainloader:\n",
    "        inputs, labels = inputs.to(device), labels.to(device)\n",
    "        \n",
    "        optimizer.zero_grad()\n",
    "        outputs = net(inputs)\n",
    "        loss = criterion(outputs, labels)\n",
    "        loss.backward()\n",
    "        optimizer.step()\n",
    "        \n",
    "        running_loss += loss.item() * inputs.size(0)\n",
    "        _, predicted = torch.max(outputs.data, 1)\n",
    "        total += labels.size(0)\n",
    "        correct += (predicted == labels).sum().item()\n",
    "    \n",
    "    scheduler.step()\n",
    "    train_loss = running_loss / len(trainloader.dataset)\n",
    "    train_acc = 100. * correct / total\n",
    "    \n",
    "    # Avaliação no teste\n",
    "    net.eval()\n",
    "    correct_test = 0\n",
    "    total_test = 0\n",
    "    with torch.no_grad():\n",
    "        for inputs, labels in testloader:\n",
    "            inputs, labels = inputs.to(device), labels.to(device)\n",
    "            outputs = net(inputs)\n",
    "            _, predicted = torch.max(outputs.data, 1)\n",
    "            total_test += labels.size(0)\n",
    "            correct_test += (predicted == labels).sum().item()\n",
    "    test_acc = 100. * correct_test / total_test\n",
    "    \n",
    "    print(f\"Epoch {epoch+1}/{num_epochs} | Loss: {train_loss:.4f} | Train Acc: {train_acc:.2f}% | Test Acc: {test_acc:.2f}%\")\n"
   ]
  },
  {
   "cell_type": "markdown",
   "id": "6ee3efed",
   "metadata": {},
   "source": []
  },
  {
   "cell_type": "markdown",
   "id": "a1a2df47",
   "metadata": {},
   "source": [
    "# 4. Testing with new data"
   ]
  },
  {
   "cell_type": "code",
   "execution_count": 20,
   "id": "012db4ad",
   "metadata": {},
   "outputs": [],
   "source": [
    "from PIL import Image\n",
    "import torchvision.transforms as transforms\n",
    "import torch\n",
    "\n",
    "# Transformações iguais às usadas no treino\n",
    "transform = transforms.Compose([\n",
    "    transforms.Resize((32, 32)),  # CIFAR-10 tem 32x32\n",
    "    transforms.ToTensor(),\n",
    "    transforms.Normalize((0.5, 0.5, 0.5), (0.5, 0.5, 0.5))\n",
    "])\n",
    "\n",
    "# Carregar a imagem\n",
    "img = Image.open(\"./01_TestingDataFromInternet/dog.jpg\").convert(\"RGB\")\n",
    "\n",
    "# Aplicar as transformações\n",
    "img_tensor = transform(img)\n",
    "\n",
    "# Adicionar dimensão de batch [1, 3, 32, 32]\n",
    "img_tensor = img_tensor.unsqueeze(0)\n"
   ]
  },
  {
   "cell_type": "code",
   "execution_count": 21,
   "id": "05e49a50",
   "metadata": {},
   "outputs": [
    {
     "name": "stdout",
     "output_type": "stream",
     "text": [
      "Classe prevista: dog\n"
     ]
    }
   ],
   "source": [
    "net.eval()  # modo de avaliação\n",
    "with torch.no_grad():\n",
    "    img_tensor = img_tensor.to(device)\n",
    "    outputs = net(img_tensor)\n",
    "    _, predicted = torch.max(outputs, 1)\n",
    "\n",
    "print(\"Classe prevista:\", classes[predicted.item()])\n"
   ]
  },
  {
   "cell_type": "markdown",
   "id": "537f06e8",
   "metadata": {},
   "source": [
    "# 5. Save the model"
   ]
  },
  {
   "cell_type": "code",
   "execution_count": null,
   "id": "f3e04c2d",
   "metadata": {},
   "outputs": [],
   "source": [
    "torch.save(net.state_dict(), os.path.dirname(os.getcwd())+\"\\\\01_ModelDeployment\\\\model\\\\CNN_Model.pth\")\n"
   ]
  }
 ],
 "metadata": {
  "kernelspec": {
   "display_name": "ML_Project",
   "language": "python",
   "name": "python3"
  },
  "language_info": {
   "codemirror_mode": {
    "name": "ipython",
    "version": 3
   },
   "file_extension": ".py",
   "mimetype": "text/x-python",
   "name": "python",
   "nbconvert_exporter": "python",
   "pygments_lexer": "ipython3",
   "version": "3.13.7"
  }
 },
 "nbformat": 4,
 "nbformat_minor": 5
}
